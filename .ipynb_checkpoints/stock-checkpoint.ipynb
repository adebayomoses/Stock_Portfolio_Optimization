{
 "cells": [
  {
   "cell_type": "code",
   "execution_count": 1,
   "id": "901f6682",
   "metadata": {},
   "outputs": [],
   "source": [
    "# importing the libraries\n",
    "\n",
    "import pandas as pd\n",
    "import numpy as np\n",
    "import seaborn as sns\n",
    "import matplotlib.pyplot as plt\n",
    "\n",
    "%matplotlib inline"
   ]
  },
  {
   "cell_type": "code",
   "execution_count": 67,
   "id": "a8f31ed5",
   "metadata": {},
   "outputs": [],
   "source": [
    "# list of the ticker symbol\n",
    "\n",
    "stock_list = [\"AAPL\", \"AMD\", \"MSFT\", \"ORCL\"]\n",
    "\n",
    "# Empty dictionary\n",
    "\n",
    "stocks = {}\n",
    "\n",
    "# loop through the stock list\n",
    "for i_stock in stock_list:\n",
    "    stocks[i_stock] = pd.read_csv(str(i_stock +\".csv\"), parse_dates = True, index_col = \"Date\")"
   ]
  },
  {
   "cell_type": "markdown",
   "id": "642bb7ab",
   "metadata": {},
   "source": [
    "### The Equal-Weighted Portfolio"
   ]
  },
  {
   "cell_type": "code",
   "execution_count": 69,
   "id": "fcf369dd",
   "metadata": {
    "scrolled": true
   },
   "outputs": [
    {
     "data": {
      "text/html": [
       "<div>\n",
       "<style scoped>\n",
       "    .dataframe tbody tr th:only-of-type {\n",
       "        vertical-align: middle;\n",
       "    }\n",
       "\n",
       "    .dataframe tbody tr th {\n",
       "        vertical-align: top;\n",
       "    }\n",
       "\n",
       "    .dataframe thead th {\n",
       "        text-align: right;\n",
       "    }\n",
       "</style>\n",
       "<table border=\"1\" class=\"dataframe\">\n",
       "  <thead>\n",
       "    <tr style=\"text-align: right;\">\n",
       "      <th></th>\n",
       "      <th>Adj Close</th>\n",
       "    </tr>\n",
       "    <tr>\n",
       "      <th>Date</th>\n",
       "      <th></th>\n",
       "    </tr>\n",
       "  </thead>\n",
       "  <tbody>\n",
       "    <tr>\n",
       "      <th>2019-01-02</th>\n",
       "      <td>18.830000</td>\n",
       "    </tr>\n",
       "    <tr>\n",
       "      <th>2019-01-03</th>\n",
       "      <td>17.049999</td>\n",
       "    </tr>\n",
       "    <tr>\n",
       "      <th>2019-01-04</th>\n",
       "      <td>19.000000</td>\n",
       "    </tr>\n",
       "    <tr>\n",
       "      <th>2019-01-07</th>\n",
       "      <td>20.570000</td>\n",
       "    </tr>\n",
       "    <tr>\n",
       "      <th>2019-01-08</th>\n",
       "      <td>20.750000</td>\n",
       "    </tr>\n",
       "    <tr>\n",
       "      <th>...</th>\n",
       "      <td>...</td>\n",
       "    </tr>\n",
       "    <tr>\n",
       "      <th>2021-12-23</th>\n",
       "      <td>146.139999</td>\n",
       "    </tr>\n",
       "    <tr>\n",
       "      <th>2021-12-27</th>\n",
       "      <td>154.360001</td>\n",
       "    </tr>\n",
       "    <tr>\n",
       "      <th>2021-12-28</th>\n",
       "      <td>153.149994</td>\n",
       "    </tr>\n",
       "    <tr>\n",
       "      <th>2021-12-29</th>\n",
       "      <td>148.259995</td>\n",
       "    </tr>\n",
       "    <tr>\n",
       "      <th>2021-12-30</th>\n",
       "      <td>145.149994</td>\n",
       "    </tr>\n",
       "  </tbody>\n",
       "</table>\n",
       "<p>756 rows × 1 columns</p>\n",
       "</div>"
      ],
      "text/plain": [
       "             Adj Close\n",
       "Date                  \n",
       "2019-01-02   18.830000\n",
       "2019-01-03   17.049999\n",
       "2019-01-04   19.000000\n",
       "2019-01-07   20.570000\n",
       "2019-01-08   20.750000\n",
       "...                ...\n",
       "2021-12-23  146.139999\n",
       "2021-12-27  154.360001\n",
       "2021-12-28  153.149994\n",
       "2021-12-29  148.259995\n",
       "2021-12-30  145.149994\n",
       "\n",
       "[756 rows x 1 columns]"
      ]
     },
     "execution_count": 69,
     "metadata": {},
     "output_type": "execute_result"
    }
   ],
   "source": [
    "stocks[\"AMD\"]"
   ]
  },
  {
   "cell_type": "code",
   "execution_count": null,
   "id": "2e8ea80e",
   "metadata": {},
   "outputs": [],
   "source": [
    "Equal weighted portfolio"
   ]
  },
  {
   "cell_type": "code",
   "execution_count": null,
   "id": "c1e4a467",
   "metadata": {},
   "outputs": [],
   "source": []
  },
  {
   "cell_type": "code",
   "execution_count": 52,
   "id": "c5bdff89",
   "metadata": {},
   "outputs": [],
   "source": [
    "dg = df.merge(df2,on=\"Date\",how=\"left\")\n",
    "ds = dg.merge(df3,on=\"Date\",how=\"left\")\n",
    "data = ds.merge(df4,on=\"Date\",how=\"left\")\n",
    "\n"
   ]
  },
  {
   "cell_type": "code",
   "execution_count": 54,
   "id": "79f893b3",
   "metadata": {},
   "outputs": [
    {
     "name": "stdout",
     "output_type": "stream",
     "text": [
      "<class 'pandas.core.frame.DataFrame'>\n",
      "DatetimeIndex: 756 entries, 2019-01-02 to 2021-12-30\n",
      "Data columns (total 4 columns):\n",
      " #   Column  Non-Null Count  Dtype  \n",
      "---  ------  --------------  -----  \n",
      " 0   APPL    756 non-null    float64\n",
      " 1   AMD     756 non-null    float64\n",
      " 2   MSFT    756 non-null    float64\n",
      " 3   ORCL    756 non-null    float64\n",
      "dtypes: float64(4)\n",
      "memory usage: 29.5 KB\n"
     ]
    }
   ],
   "source": [
    "data.info()"
   ]
  },
  {
   "cell_type": "code",
   "execution_count": 57,
   "id": "282510e3",
   "metadata": {},
   "outputs": [
    {
     "data": {
      "text/html": [
       "<div>\n",
       "<style scoped>\n",
       "    .dataframe tbody tr th:only-of-type {\n",
       "        vertical-align: middle;\n",
       "    }\n",
       "\n",
       "    .dataframe tbody tr th {\n",
       "        vertical-align: top;\n",
       "    }\n",
       "\n",
       "    .dataframe thead th {\n",
       "        text-align: right;\n",
       "    }\n",
       "</style>\n",
       "<table border=\"1\" class=\"dataframe\">\n",
       "  <thead>\n",
       "    <tr style=\"text-align: right;\">\n",
       "      <th></th>\n",
       "      <th>APPL</th>\n",
       "      <th>AMD</th>\n",
       "      <th>MSFT</th>\n",
       "      <th>ORCL</th>\n",
       "    </tr>\n",
       "    <tr>\n",
       "      <th>Date</th>\n",
       "      <th></th>\n",
       "      <th></th>\n",
       "      <th></th>\n",
       "      <th></th>\n",
       "    </tr>\n",
       "  </thead>\n",
       "  <tbody>\n",
       "    <tr>\n",
       "      <th>2019-01-02</th>\n",
       "      <td>38.047047</td>\n",
       "      <td>18.830000</td>\n",
       "      <td>96.632668</td>\n",
       "      <td>42.138145</td>\n",
       "    </tr>\n",
       "    <tr>\n",
       "      <th>2019-01-03</th>\n",
       "      <td>34.257271</td>\n",
       "      <td>17.049999</td>\n",
       "      <td>93.077728</td>\n",
       "      <td>41.728134</td>\n",
       "    </tr>\n",
       "    <tr>\n",
       "      <th>2019-01-04</th>\n",
       "      <td>35.719696</td>\n",
       "      <td>19.000000</td>\n",
       "      <td>97.406723</td>\n",
       "      <td>43.526596</td>\n",
       "    </tr>\n",
       "    <tr>\n",
       "      <th>2019-01-07</th>\n",
       "      <td>35.640198</td>\n",
       "      <td>20.570000</td>\n",
       "      <td>97.530945</td>\n",
       "      <td>44.216164</td>\n",
       "    </tr>\n",
       "    <tr>\n",
       "      <th>2019-01-08</th>\n",
       "      <td>36.319611</td>\n",
       "      <td>20.750000</td>\n",
       "      <td>98.238113</td>\n",
       "      <td>44.616867</td>\n",
       "    </tr>\n",
       "  </tbody>\n",
       "</table>\n",
       "</div>"
      ],
      "text/plain": [
       "                 APPL        AMD       MSFT       ORCL\n",
       "Date                                                  \n",
       "2019-01-02  38.047047  18.830000  96.632668  42.138145\n",
       "2019-01-03  34.257271  17.049999  93.077728  41.728134\n",
       "2019-01-04  35.719696  19.000000  97.406723  43.526596\n",
       "2019-01-07  35.640198  20.570000  97.530945  44.216164\n",
       "2019-01-08  36.319611  20.750000  98.238113  44.616867"
      ]
     },
     "execution_count": 57,
     "metadata": {},
     "output_type": "execute_result"
    }
   ],
   "source": [
    "data.head()"
   ]
  },
  {
   "cell_type": "code",
   "execution_count": 61,
   "id": "fe52ac31",
   "metadata": {},
   "outputs": [
    {
     "data": {
      "text/plain": [
       "APPL    False\n",
       "AMD     False\n",
       "MSFT    False\n",
       "ORCL    False\n",
       "dtype: bool"
      ]
     },
     "execution_count": 61,
     "metadata": {},
     "output_type": "execute_result"
    }
   ],
   "source": [
    "data.isnull().any()"
   ]
  },
  {
   "cell_type": "code",
   "execution_count": null,
   "id": "fc0f4405",
   "metadata": {},
   "outputs": [],
   "source": []
  }
 ],
 "metadata": {
  "kernelspec": {
   "display_name": "Python 3 (ipykernel)",
   "language": "python",
   "name": "python3"
  },
  "language_info": {
   "codemirror_mode": {
    "name": "ipython",
    "version": 3
   },
   "file_extension": ".py",
   "mimetype": "text/x-python",
   "name": "python",
   "nbconvert_exporter": "python",
   "pygments_lexer": "ipython3",
   "version": "3.9.7"
  }
 },
 "nbformat": 4,
 "nbformat_minor": 5
}
